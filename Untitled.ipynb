{
 "cells": [
  {
   "cell_type": "code",
   "execution_count": null,
   "id": "80f85770",
   "metadata": {},
   "outputs": [],
   "source": [
    "plt.scatter(dataset['Family'], dataset['Happiness Score'])\n",
    "plt.xlabel('Family')\n",
    "plt.ylabel('Happiness Score')\n",
    "plt.title('Scatter Plot: Column1 vs Column2')\n",
    "plt.text(dataset[\"Family\"].min(), dataset[\"Happiness Score\"].max(), f'Correlation: {correlation:.2f}', ha='left', va='top')\n",
    "coefficients = np.polyfit(dataset['Family'], dataset['Happiness Score'], 1)\n",
    "trendline = np.poly1d(coefficients)\n",
    "plt.plot(dataset['Family'], trendline(dataset['Family']), color='r', linestyle='--')\n",
    "plt.show()"
   ]
  },
  {
   "cell_type": "code",
   "execution_count": null,
   "id": "9b204675",
   "metadata": {},
   "outputs": [],
   "source": []
  }
 ],
 "metadata": {
  "kernelspec": {
   "display_name": "Python 3 (ipykernel)",
   "language": "python",
   "name": "python3"
  },
  "language_info": {
   "codemirror_mode": {
    "name": "ipython",
    "version": 3
   },
   "file_extension": ".py",
   "mimetype": "text/x-python",
   "name": "python",
   "nbconvert_exporter": "python",
   "pygments_lexer": "ipython3",
   "version": "3.9.13"
  }
 },
 "nbformat": 4,
 "nbformat_minor": 5
}
